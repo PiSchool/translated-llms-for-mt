{
  "cells": [
    {
      "cell_type": "code",
      "execution_count": null,
      "metadata": {
        "id": "8sRmmiJWFuAh"
      },
      "outputs": [],
      "source": [
        "%%capture\n",
        "!pip install transformers\n",
        "!pip install accelerate\n",
        "!pip install peft\n",
        "!pip install datasets\n",
        "!pip install unbabel-comet\n",
        "!pip install wandb"
      ]
    },
    {
      "cell_type": "code",
      "execution_count": null,
      "metadata": {
        "colab": {
          "base_uri": "https://localhost:8080/"
        },
        "id": "aU80xFnwCVSI",
        "outputId": "c8f1dc2d-95e2-4344-c1d7-965641a972b7"
      },
      "outputs": [
        {
          "name": "stdout",
          "output_type": "stream",
          "text": [
            "\u001b[34m\u001b[1mwandb\u001b[0m: Currently logged in as: \u001b[33mgianfree_romani\u001b[0m (\u001b[33mmt2magic\u001b[0m). Use \u001b[1m`wandb login --relogin`\u001b[0m to force relogin\n"
          ]
        }
      ],
      "source": [
        "!wandb login"
      ]
    },
    {
      "cell_type": "code",
      "execution_count": null,
      "metadata": {
        "colab": {
          "base_uri": "https://localhost:8080/"
        },
        "id": "GvQTri_7LeYg",
        "outputId": "29236b91-b27b-48e5-8575-be2129d60128"
      },
      "outputs": [
        {
          "name": "stderr",
          "output_type": "stream",
          "text": [
            "[nltk_data] Downloading package punkt to /root/nltk_data...\n",
            "[nltk_data]   Package punkt is already up-to-date!\n"
          ]
        }
      ],
      "source": [
        "import pandas as pd\n",
        "from tqdm import tqdm\n",
        "import os\n",
        "\n",
        "import nltk\n",
        "nltk.download('punkt')\n",
        "from nltk.translate.bleu_score import sentence_bleu, corpus_bleu\n",
        "from nltk.tokenize import word_tokenize\n",
        "from nltk.translate.chrf_score import sentence_chrf, corpus_chrf\n",
        "from nltk.translate.bleu_score import SmoothingFunction\n",
        "from comet import download_model, load_from_checkpoint\n",
        "\n",
        "import warnings\n",
        "warnings.filterwarnings(\"ignore\")\n",
        "\n",
        "from transformers import AutoModelForSeq2SeqLM, AutoTokenizer, T5Tokenizer, T5ForConditionalGeneration, BloomModel, MBartForConditionalGeneration, MBart50TokenizerFast\n",
        "from peft import get_peft_config, get_peft_model, get_peft_model_state_dict, LoraConfig, TaskType\n",
        "from datasets import load_dataset, DatasetDict\n",
        "import torch\n",
        "from torch.utils.data import Dataset, DataLoader\n",
        "from transformers import default_data_collator, get_linear_schedule_with_warmup\n",
        "\n",
        "import logging\n",
        "logging.disable(logging.CRITICAL)\n",
        "\n",
        "import wandb"
      ]
    },
    {
      "cell_type": "code",
      "execution_count": null,
      "metadata": {
        "colab": {
          "base_uri": "https://localhost:8080/",
          "height": 142
        },
        "id": "p9naJKrvCaK2",
        "outputId": "c29185d8-06ae-471b-ec3d-00d1ddcf9e8d"
      },
      "outputs": [
        {
          "name": "stderr",
          "output_type": "stream",
          "text": [
            "\u001b[34m\u001b[1mwandb\u001b[0m: Currently logged in as: \u001b[33mgianfree_romani\u001b[0m (\u001b[33mmt2magic\u001b[0m). Use \u001b[1m`wandb login --relogin`\u001b[0m to force relogin\n"
          ]
        },
        {
          "data": {
            "text/html": [
              "Tracking run with wandb version 0.14.0"
            ],
            "text/plain": [
              "<IPython.core.display.HTML object>"
            ]
          },
          "metadata": {},
          "output_type": "display_data"
        },
        {
          "data": {
            "text/html": [
              "Run data is saved locally in <code>/content/wandb/run-20230322_095927-vevp4jlv</code>"
            ],
            "text/plain": [
              "<IPython.core.display.HTML object>"
            ]
          },
          "metadata": {},
          "output_type": "display_data"
        },
        {
          "data": {
            "text/html": [
              "Syncing run <strong><a href='https://wandb.ai/mt2magic/translated-challenge/runs/vevp4jlv' target=\"_blank\">spring-dew-5</a></strong> to <a href='https://wandb.ai/mt2magic/translated-challenge' target=\"_blank\">Weights & Biases</a> (<a href='https://wandb.me/run' target=\"_blank\">docs</a>)<br/>"
            ],
            "text/plain": [
              "<IPython.core.display.HTML object>"
            ]
          },
          "metadata": {},
          "output_type": "display_data"
        },
        {
          "data": {
            "text/html": [
              " View project at <a href='https://wandb.ai/mt2magic/translated-challenge' target=\"_blank\">https://wandb.ai/mt2magic/translated-challenge</a>"
            ],
            "text/plain": [
              "<IPython.core.display.HTML object>"
            ]
          },
          "metadata": {},
          "output_type": "display_data"
        },
        {
          "data": {
            "text/html": [
              " View run at <a href='https://wandb.ai/mt2magic/translated-challenge/runs/vevp4jlv' target=\"_blank\">https://wandb.ai/mt2magic/translated-challenge/runs/vevp4jlv</a>"
            ],
            "text/plain": [
              "<IPython.core.display.HTML object>"
            ]
          },
          "metadata": {},
          "output_type": "display_data"
        },
        {
          "data": {
            "text/html": [
              "<button onClick=\"this.nextSibling.style.display='block';this.style.display='none';\">Display W&B run</button><iframe src='https://wandb.ai/mt2magic/translated-challenge/runs/vevp4jlv?jupyter=true' style='border:none;width:100%;height:420px;display:none;'></iframe>"
            ],
            "text/plain": [
              "<wandb.sdk.wandb_run.Run at 0x7f676dbce040>"
            ]
          },
          "execution_count": 4,
          "metadata": {},
          "output_type": "execute_result"
        }
      ],
      "source": [
        "wandb.init(project='translated-challenge', entity='mt2magic')"
      ]
    },
    {
      "cell_type": "code",
      "execution_count": null,
      "metadata": {
        "id": "f9erzsvBcvzC"
      },
      "outputs": [],
      "source": [
        "m = \"t5\" # \"bloom\" \"mbart\" \"nllb\" \"t5\""
      ]
    },
    {
      "cell_type": "code",
      "execution_count": null,
      "metadata": {
        "id": "RJXjENv8X4Tw"
      },
      "outputs": [],
      "source": [
        "src_lang =\"eng\"\n",
        "trg_lang = \"spa\""
      ]
    },
    {
      "cell_type": "code",
      "execution_count": null,
      "metadata": {
        "id": "2A34o7YVfS7d"
      },
      "outputs": [],
      "source": [
        "prefix = \"translate English to Spanish: \""
      ]
    },
    {
      "cell_type": "markdown",
      "metadata": {
        "id": "ayVsaD_iFRcR"
      },
      "source": [
        "# Evaluator"
      ]
    },
    {
      "cell_type": "code",
      "execution_count": null,
      "metadata": {
        "id": "rSLRa1DbBNQa"
      },
      "outputs": [],
      "source": [
        "class Evaluator:\n",
        "\n",
        "    def __init__(self, model_name='Unbabel/wmt22-comet-da'):\n",
        "\n",
        "        self.COMET_model_path = download_model(model_name, saving_directory='./models/')\n",
        "\n",
        "    def calculate_sentence_bleu(self, df_evaluation):\n",
        "        \"\"\"\n",
        "            Calculating the sentence BLEU score for each translation.\n",
        "        \"\"\"\n",
        "        df_evaluation['BLEU'] = 0\n",
        "        smoothie = SmoothingFunction().method4\n",
        "        for i, r in df_evaluation.iterrows():\n",
        "            bleu_score = sentence_bleu([word_tokenize(r['target'])], word_tokenize(r['translation'])\n",
        "                                       , smoothing_function=smoothie)\n",
        "            df_evaluation.at[i, 'BLEU'] = bleu_score\n",
        "\n",
        "        return df_evaluation\n",
        "\n",
        "    def calculate_sentence_chrf(self, df_evaluation):\n",
        "        \"\"\"\n",
        "            Calculating the sentence chrf score for each translation.\n",
        "        \"\"\"\n",
        "        df_evaluation['chrf'] = 0\n",
        "        for i, r in df_evaluation.iterrows():\n",
        "            chrf_score = sentence_chrf((r['target']), r['translation'])\n",
        "            df_evaluation.at[i, 'chrf'] = chrf_score\n",
        "\n",
        "        return df_evaluation\n",
        "\n",
        "    def calculate_COMET(self, df_evaluation, batch_size=8, gpu_numbers=1):\n",
        "        \"\"\"\n",
        "            Calculating the COMET score for each translation.\n",
        "            model_name (:obj:`str`): Model name of COMET library from below link:\n",
        "                1. https://huggingface.co/Unbabel\n",
        "                The default value is 'Unbabel/wmt22-comet-da' which is built on top of XLM-R\n",
        "                and has been trained on direct assessments from WMT17 to WMT20 and provides scores ranging from 0 to 1\n",
        "                , where 1 represents a perfect translation.\n",
        "                batch_size (:obj: 'int'): batch_size\n",
        "                gpu_numbers (:obj: 'int'): Number of GPUs\n",
        "        \"\"\"\n",
        "        if torch.cuda.is_available():\n",
        "            gpu_numbers = gpu_numbers\n",
        "        else:\n",
        "            gpu_numbers = 0\n",
        "\n",
        "        model = load_from_checkpoint(self.COMET_model_path)\n",
        "        df_evaluation['COMET'] = 0\n",
        "        for i, r in df_evaluation.iterrows():\n",
        "            data = [\n",
        "                {\n",
        "                    'src': r['source'],\n",
        "                    'mt': r['translation'],\n",
        "                    'ref': r['target']\n",
        "                }\n",
        "            ]\n",
        "            model_output = model.predict(data, batch_size=batch_size, gpus=gpu_numbers)\n",
        "            df_evaluation.at[i, 'COMET'] = model_output.scores[0]\n",
        "\n",
        "        return df_evaluation\n",
        "\n",
        "    def evaluating_from_dataframe(self, dataframe, save_path='/data/df_result_with_evaluation.csv'\n",
        "                                  , COMET_model_batch_size=8, COMET_model_gpu_numbers=1):\n",
        "        \"\"\"\n",
        "                    Evaluating translations from privided csv file path.\n",
        "                    Keys and Values:\n",
        "                        dataframe (:obj:`pandas dataframe'): Translation dataframe with agreed structure\n",
        "                        save_path (:obj: 'str'): path for saving the result dataframe in csv format\n",
        "                    Output:\n",
        "                        dataframe (:obj: 'pandas dataframe'): The dataframe with 3 evaluation metrics columns (BLEU, chrf, COMET)\n",
        "        \"\"\"\n",
        "        df_evaluation = dataframe.copy()\n",
        "        df_evaluation = self.calculate_sentence_bleu(df_evaluation)\n",
        "        df_evaluation = self.calculate_sentence_chrf(df_evaluation)\n",
        "        df_evaluation = self.calculate_COMET(df_evaluation\n",
        "                                             , batch_size=COMET_model_batch_size, gpu_numbers=COMET_model_gpu_numbers)\n",
        "\n",
        "        if not os.path.exists(save_path):\n",
        "            os.makedirs(save_path)\n",
        "\n",
        "        df_evaluation.to_csv(save_path, sep=',')\n",
        "        return df_evaluation\n",
        "\n",
        "    def evaluating_from_file_path(self, prediction_file_path, sep=',', encoding='utf-8', save_path='/data/'\n",
        "                                  , COMET_model_batch_size=8, COMET_model_gpu_numbers=1):\n",
        "        \"\"\"\n",
        "                    Evaluating translations from privided csv file path.\n",
        "                    Keys and Values:\n",
        "                        prediction_file_path (:obj:`str'): CSV file path with agreed structure\n",
        "                        sep (:obj: 'str'): seperator of csv file\n",
        "                        encoding (:obj: 'str'): encoding of csv file\n",
        "                        save_path (:obj: 'str'): path for saving the result dataframe in csv format\n",
        "                    Output:\n",
        "                        dataframe (:obj: 'pandas dataframe'): The dataframe with 3 evaluation metrics columns (BLEU, chrf, COMET)\n",
        "        \"\"\"\n",
        "\n",
        "        df_evaluation = pd.read_csv(prediction_file_path, sep=sep, encoding=encoding)\n",
        "        df_evaluation = self.calculate_sentence_bleu(df_evaluation)\n",
        "        df_evaluation = self.calculate_sentence_chrf(df_evaluation)\n",
        "        df_evaluation = self.calculate_COMET(df_evaluation\n",
        "                                             , batch_size=COMET_model_batch_size, gpu_numbers=COMET_model_gpu_numbers)\n",
        "\n",
        "        if not os.path.exists(save_path):\n",
        "            os.makedirs(save_path)\n",
        "\n",
        "        df_evaluation.to_csv(save_path, sep=',')\n",
        "        return df_evaluation\n",
        "\n",
        "    def calculate_corpus_bleu(self, df_evaluation):\n",
        "        \"\"\"\n",
        "            Calculating the corpus BLEU score over entire translations.\n",
        "        \"\"\"\n",
        "        list_of_references = []\n",
        "        for sentence in df_evaluation['target'].values:\n",
        "            list_of_references.append([word_tokenize(sentence)])\n",
        "\n",
        "        hypotheses = []\n",
        "        for sentence in df_evaluation['translation'].values:\n",
        "            hypotheses.append(word_tokenize(sentence))\n",
        "\n",
        "        smoothie = SmoothingFunction().method4\n",
        "        return corpus_bleu(list_of_references, hypotheses, smoothing_function=smoothie)\n",
        "\n",
        "    def calculate_mean_bleu(self, df_evaluation):\n",
        "        \"\"\"\n",
        "            Calculating the mean BLEU score over entire translations.\n",
        "        \"\"\"\n",
        "        mean_bleu = df_evaluation.loc[:, 'BLEU'].mean()\n",
        "        return mean_bleu\n",
        "\n",
        "    def calculate_corpus_chrf(self, df_evaluation):\n",
        "        \"\"\"\n",
        "            Calculating the corpus chrf score over entire translations.\n",
        "        \"\"\"\n",
        "        list_of_references = []\n",
        "        for sentence in df_evaluation['target'].values:\n",
        "            list_of_references.append([sentence])\n",
        "\n",
        "        hypotheses = []\n",
        "        for sentence in df_evaluation['translation'].values:\n",
        "            hypotheses.append([sentence])\n",
        "\n",
        "        return corpus_chrf(list_of_references, hypotheses)\n",
        "\n",
        "    def calculate_mean_chrf(self, df_evaluation):\n",
        "        \"\"\"\n",
        "            Calculating the mean chrf score over entire translations.\n",
        "        \"\"\"\n",
        "        mean_bleu = df_evaluation.loc[:, 'chrf'].mean()\n",
        "        return mean_bleu\n",
        "\n",
        "    def calculate_system_score_COMET(self, df_evaluation, batch_size=256, gpu_numbers=1):\n",
        "        \"\"\"\n",
        "            Calculate system_score (mean) COMET score over entire translations.\n",
        "            Keys and Values:\n",
        "                df_prediction (:obj:`pandas dataframe'): Dataframe contains source text, reference text ,and translation text\n",
        "                model_name (:obj:`str`): Model name of COMET library from below link:\n",
        "                1. https://huggingface.co/Unbabel\n",
        "                The default value is 'Unbabel/wmt22-comet-da' which is built on top of XLM-R\n",
        "                and has been trained on direct assessments from WMT17 to WMT20 and provides scores ranging from 0 to 1\n",
        "                , where 1 represents a perfect translation.\n",
        "                batch_size (:obj: 'int'): batch_size\n",
        "                gpu_numbers (:obj: 'int'): Number of GPUs\n",
        "            Output:\n",
        "                system_score (:obj: 'float'): The mean COMET score over entire translations.\n",
        "        \"\"\"\n",
        "        if torch.cuda.is_available():\n",
        "            gpu_numbers = gpu_numbers\n",
        "        else:\n",
        "            gpu_numbers = 0\n",
        "\n",
        "        model = load_from_checkpoint(self.COMET_model_path)\n",
        "\n",
        "        data_list = []\n",
        "        for i, r in df_evaluation.iterrows():\n",
        "            data = {\n",
        "                'src': r['source'],\n",
        "                'mt': r['translation'],\n",
        "                'ref': r['target']\n",
        "            }\n",
        "            data_list.append(data)\n",
        "\n",
        "        model_output = model.predict(data_list, batch_size=batch_size, gpus=gpu_numbers)\n",
        "        return model_output.system_score"
      ]
    },
    {
      "cell_type": "markdown",
      "metadata": {
        "id": "ejWLGzHdMDqg"
      },
      "source": [
        "#  PEFT"
      ]
    },
    {
      "cell_type": "markdown",
      "metadata": {
        "id": "GNfFPObIWX2Q"
      },
      "source": [
        "This is valid for sequence-to-sequence models, like:\n",
        "\n",
        "*   T5\n",
        "*   BLOOM\n",
        "*   mBART\n",
        "*   NLLB\n",
        "\n",
        "T5 (and variants) and BLOOM need a prefix before the source sentence, mbart and nllb do not need a prefix"
      ]
    },
    {
      "cell_type": "code",
      "execution_count": null,
      "metadata": {
        "colab": {
          "base_uri": "https://localhost:8080/",
          "height": 162,
          "referenced_widgets": [
            "dbb2edabdb6c42c4be1872986bf172cf",
            "f9211e37805e421ca3b0651fe8f8e2e4",
            "c801ad523d2f49b790c5f046e9a719c5",
            "d7323c2b471d42d29e914eebfd5ea55f",
            "b1ecaeceba3a4af48dc6ee40d1883725",
            "44e6d881b9d441f0beda75ad13d76052",
            "ac226e137f364a5a896094d99cc718ae",
            "ef38259376554c67b506bc531709cd71",
            "b7f1405292fb428ab716733ea088584f",
            "f99cc0d6e26e419e92fd61f34255f2eb",
            "5ceee59922f848a5b5be692c2fb51783",
            "4bbe37082014479badffdccd5c801b31",
            "580a0e9ed87f47378233eb09f7328321",
            "af0db66301074b04aacb4b6408c6fc99",
            "71e82ec2a73b45eb97f5a21ed232ae83",
            "64fbccee56b54df488e1beb78e0d9a3a",
            "00646486ccc7445fa9930cbdcc4a177e",
            "e29ea08b95e940a5af158dad4f84294d",
            "d364a5ec77a7400ebb7aa457d1a11bd5",
            "1c714e8bf26a46feb31efd0585ba5445",
            "ee545238addf48528186d3d04289e30f",
            "31c6354c9e7b4deaa8d65f2d40e121ad",
            "01a972a0214043a1bf8fde82e4b52b19",
            "927e18769bfd4806832c25b321a9f0c8",
            "9e728a10c1614feaa3424610cea48225",
            "f554958b09ef4eafbf1e820e26ca3bc7",
            "83cef5f6c505449caaa9866ba484fa8a",
            "c996d0049f914876900e16f3d5044a7c",
            "6dd11e2e7ee04c86834134ae8ddbc362",
            "d9200277dbf147e69cb1b926c225f074",
            "b7a33230270e430da8395cd159e2a503",
            "c5ba057eaf334cedae9c810faed1efbe",
            "414be54e37ce4445abd1f60f584ab6aa",
            "1cec8dc790774830af539f2be1524cfa",
            "911150df5af24b92808e49858a5ad231",
            "53e068c0797740b39867ce712e0a1111",
            "436b7f58a5784ca4bfb53bbbce47fbac",
            "ade1874c7f92427e866640c71bc7ac25",
            "ef9771d7ce224400bf5ce5e022a344d9",
            "becaefb00f874812ba75c51f147d4ba6",
            "9f2527e90a9b4a34a7b97e821db1d4c5",
            "1269e26332cc46b1833636dc3e05e178",
            "c3c626816dbd44129de3cc85be2b675f",
            "20ef55dd5d1a4f3b99c8437976691c18"
          ]
        },
        "id": "vQs4Wiq6WtGC",
        "outputId": "9289ed23-84dd-40f9-d4c8-e4f1b35cd9b1"
      },
      "outputs": [
        {
          "data": {
            "application/vnd.jupyter.widget-view+json": {
              "model_id": "dbb2edabdb6c42c4be1872986bf172cf",
              "version_major": 2,
              "version_minor": 0
            },
            "text/plain": [
              "Downloading (…)ve/main/spiece.model:   0%|          | 0.00/4.31M [00:00<?, ?B/s]"
            ]
          },
          "metadata": {},
          "output_type": "display_data"
        },
        {
          "data": {
            "application/vnd.jupyter.widget-view+json": {
              "model_id": "4bbe37082014479badffdccd5c801b31",
              "version_major": 2,
              "version_minor": 0
            },
            "text/plain": [
              "Downloading (…)cial_tokens_map.json:   0%|          | 0.00/99.0 [00:00<?, ?B/s]"
            ]
          },
          "metadata": {},
          "output_type": "display_data"
        },
        {
          "data": {
            "application/vnd.jupyter.widget-view+json": {
              "model_id": "01a972a0214043a1bf8fde82e4b52b19",
              "version_major": 2,
              "version_minor": 0
            },
            "text/plain": [
              "Downloading (…)okenizer_config.json:   0%|          | 0.00/82.0 [00:00<?, ?B/s]"
            ]
          },
          "metadata": {},
          "output_type": "display_data"
        },
        {
          "data": {
            "application/vnd.jupyter.widget-view+json": {
              "model_id": "1cec8dc790774830af539f2be1524cfa",
              "version_major": 2,
              "version_minor": 0
            },
            "text/plain": [
              "Downloading (…)lve/main/config.json:   0%|          | 0.00/553 [00:00<?, ?B/s]"
            ]
          },
          "metadata": {},
          "output_type": "display_data"
        },
        {
          "name": "stdout",
          "output_type": "stream",
          "text": [
            "Model chosen: google/mt5-small\n"
          ]
        }
      ],
      "source": [
        "if m == \"t5\":\n",
        "  #model_name = \"google/flan-t5-small\"\n",
        "  model_name = \"google/mt5-small\"\n",
        "  #model_name = \"google/flan-ul2\"\n",
        "  tokenizer = T5Tokenizer.from_pretrained(model_name)\n",
        "elif m == \"bloom\":\n",
        "  model_name = \"bigscience/mt0-small\"\n",
        "  tokenizer = AutoTokenizer.from_pretrained(model_name)\n",
        "elif m == \"mbart\":\n",
        "  model_name = \"facebook/mbart-large-50\"\n",
        "  tokenizer = MBart50TokenizerFast.from_pretrained(\n",
        "                                                  model_name, \n",
        "                                                  src_lang=\"{}_XX\".format(src_lang), \n",
        "                                                  tgt_lang=\"{}_XX\".format(trg_lang)\n",
        "                                                  )\n",
        "elif m == \"nllb\":\n",
        "  model_name = \"facebook/nllb-200-distilled-600M\" # \"facebook/nllb-200-distilled-1.3B\"\n",
        "  tokenizer = AutoTokenizer.from_pretrained(model_name)\n",
        "\n",
        "print(\"Model chosen: {}\".format(model_name))"
      ]
    },
    {
      "cell_type": "code",
      "execution_count": null,
      "metadata": {
        "id": "gxD5dVdv-kHL"
      },
      "outputs": [],
      "source": [
        "max_length = 256\n",
        "lr = 1e-3\n",
        "num_epochs = 3\n",
        "batch_size = 8"
      ]
    },
    {
      "cell_type": "code",
      "execution_count": null,
      "metadata": {
        "id": "Ud26txZSCqJB"
      },
      "outputs": [],
      "source": [
        "config = wandb.config\n",
        "config.model = model_name\n",
        "config.batch_size = batch_size\n",
        "config.learning_rate = lr\n",
        "config.max_length = max_length\n",
        "config.epochs = num_epochs"
      ]
    },
    {
      "cell_type": "markdown",
      "metadata": {
        "id": "bYEsGHM_Hwvs"
      },
      "source": [
        "## Data"
      ]
    },
    {
      "cell_type": "code",
      "execution_count": null,
      "metadata": {
        "id": "q0NMt4vya4Pu"
      },
      "outputs": [],
      "source": [
        "class FloresDataset(Dataset):\n",
        "  def __init__(self, src_file, trg_file, tokenizer, max_length=128):\n",
        "\n",
        "    self.src_sentences = []\n",
        "    self.trg_sentences = []\n",
        "    self.tokenizer = tokenizer\n",
        "    self.max_length = max_length\n",
        "    \n",
        "    with open(src_file, 'r') as f:\n",
        "      for line in f:\n",
        "        if m in [\"t5\", \"bloom\"]:\n",
        "          self.src_sentences.append(prefix + line.strip())\n",
        "        else:\n",
        "          self.src_sentences.append(line.strip())\n",
        "    \n",
        "    with open(trg_file, 'r') as f:\n",
        "      for line in f:\n",
        "        self.trg_sentences.append(line.strip())\n",
        "\n",
        "  def __len__(self):\n",
        "    return len(self.src_sentences)\n",
        "\n",
        "  def __getitem__(self, index):\n",
        "    src_encoding = self.tokenizer(self.src_sentences[index], truncation=True, padding='max_length', max_length=self.max_length, return_tensors='pt')\n",
        "    \n",
        "    trg_encoding = self.tokenizer(self.trg_sentences[index], truncation=True, padding='max_length', max_length=self.max_length, return_tensors='pt')\n",
        "    \n",
        "    input_ids = src_encoding['input_ids'].squeeze()\n",
        "    attention_mask = src_encoding['attention_mask'].squeeze()\n",
        "    trg_input_ids = trg_encoding['input_ids'].squeeze()\n",
        "    \n",
        "    return {'input_ids': input_ids, 'attention_mask': attention_mask, 'labels': trg_input_ids}"
      ]
    },
    {
      "cell_type": "code",
      "execution_count": null,
      "metadata": {
        "colab": {
          "base_uri": "https://localhost:8080/",
          "height": 339
        },
        "id": "KG4GMiegbL0I",
        "outputId": "74de06e4-f3ee-430c-b0c7-2e57d62df69a"
      },
      "outputs": [
        {
          "ename": "FileNotFoundError",
          "evalue": "ignored",
          "output_type": "error",
          "traceback": [
            "\u001b[0;31m---------------------------------------------------------------------------\u001b[0m",
            "\u001b[0;31mFileNotFoundError\u001b[0m                         Traceback (most recent call last)",
            "\u001b[0;32m<ipython-input-14-d2bf33a23adc>\u001b[0m in \u001b[0;36m<module>\u001b[0;34m\u001b[0m\n\u001b[0;32m----> 1\u001b[0;31m \u001b[0mtrain_dataset\u001b[0m \u001b[0;34m=\u001b[0m \u001b[0mFloresDataset\u001b[0m\u001b[0;34m(\u001b[0m\u001b[0;34m\"/content/{}_Latn.dev\"\u001b[0m\u001b[0;34m.\u001b[0m\u001b[0mformat\u001b[0m\u001b[0;34m(\u001b[0m\u001b[0msrc_lang\u001b[0m\u001b[0;34m)\u001b[0m\u001b[0;34m,\u001b[0m \u001b[0;34m\"/content/{}_Latn.dev\"\u001b[0m\u001b[0;34m.\u001b[0m\u001b[0mformat\u001b[0m\u001b[0;34m(\u001b[0m\u001b[0mtrg_lang\u001b[0m\u001b[0;34m)\u001b[0m\u001b[0;34m,\u001b[0m \u001b[0mtokenizer\u001b[0m\u001b[0;34m)\u001b[0m\u001b[0;34m\u001b[0m\u001b[0;34m\u001b[0m\u001b[0m\n\u001b[0m\u001b[1;32m      2\u001b[0m \u001b[0meval_dataset\u001b[0m \u001b[0;34m=\u001b[0m \u001b[0mFloresDataset\u001b[0m\u001b[0;34m(\u001b[0m\u001b[0;34m\"/content/{}_Latn.devtest\"\u001b[0m\u001b[0;34m.\u001b[0m\u001b[0mformat\u001b[0m\u001b[0;34m(\u001b[0m\u001b[0msrc_lang\u001b[0m\u001b[0;34m)\u001b[0m\u001b[0;34m,\u001b[0m \u001b[0;34m\"/content/{}_Latn.devtest\"\u001b[0m\u001b[0;34m.\u001b[0m\u001b[0mformat\u001b[0m\u001b[0;34m(\u001b[0m\u001b[0mtrg_lang\u001b[0m\u001b[0;34m)\u001b[0m\u001b[0;34m,\u001b[0m \u001b[0mtokenizer\u001b[0m\u001b[0;34m)\u001b[0m\u001b[0;34m\u001b[0m\u001b[0;34m\u001b[0m\u001b[0m\n\u001b[1;32m      3\u001b[0m \u001b[0mprint\u001b[0m\u001b[0;34m(\u001b[0m\u001b[0;34m\"Number of samples in the train set: {}\"\u001b[0m\u001b[0;34m.\u001b[0m\u001b[0mformat\u001b[0m\u001b[0;34m(\u001b[0m\u001b[0mlen\u001b[0m\u001b[0;34m(\u001b[0m\u001b[0mtrain_dataset\u001b[0m\u001b[0;34m)\u001b[0m\u001b[0;34m)\u001b[0m\u001b[0;34m)\u001b[0m\u001b[0;34m\u001b[0m\u001b[0;34m\u001b[0m\u001b[0m\n\u001b[1;32m      4\u001b[0m \u001b[0mprint\u001b[0m\u001b[0;34m(\u001b[0m\u001b[0;34m\"Number of samples in the eval set: {}\"\u001b[0m\u001b[0;34m.\u001b[0m\u001b[0mformat\u001b[0m\u001b[0;34m(\u001b[0m\u001b[0mlen\u001b[0m\u001b[0;34m(\u001b[0m\u001b[0meval_dataset\u001b[0m\u001b[0;34m)\u001b[0m\u001b[0;34m)\u001b[0m\u001b[0;34m)\u001b[0m\u001b[0;34m\u001b[0m\u001b[0;34m\u001b[0m\u001b[0m\n",
            "\u001b[0;32m<ipython-input-12-78c48cf9a923>\u001b[0m in \u001b[0;36m__init__\u001b[0;34m(self, src_file, trg_file, tokenizer, max_length)\u001b[0m\n\u001b[1;32m     14\u001b[0m           \u001b[0mself\u001b[0m\u001b[0;34m.\u001b[0m\u001b[0msrc_sentences\u001b[0m\u001b[0;34m.\u001b[0m\u001b[0mappend\u001b[0m\u001b[0;34m(\u001b[0m\u001b[0mline\u001b[0m\u001b[0;34m.\u001b[0m\u001b[0mstrip\u001b[0m\u001b[0;34m(\u001b[0m\u001b[0;34m)\u001b[0m\u001b[0;34m)\u001b[0m\u001b[0;34m\u001b[0m\u001b[0;34m\u001b[0m\u001b[0m\n\u001b[1;32m     15\u001b[0m \u001b[0;34m\u001b[0m\u001b[0m\n\u001b[0;32m---> 16\u001b[0;31m     \u001b[0;32mwith\u001b[0m \u001b[0mopen\u001b[0m\u001b[0;34m(\u001b[0m\u001b[0mtrg_file\u001b[0m\u001b[0;34m,\u001b[0m \u001b[0;34m'r'\u001b[0m\u001b[0;34m)\u001b[0m \u001b[0;32mas\u001b[0m \u001b[0mf\u001b[0m\u001b[0;34m:\u001b[0m\u001b[0;34m\u001b[0m\u001b[0;34m\u001b[0m\u001b[0m\n\u001b[0m\u001b[1;32m     17\u001b[0m       \u001b[0;32mfor\u001b[0m \u001b[0mline\u001b[0m \u001b[0;32min\u001b[0m \u001b[0mf\u001b[0m\u001b[0;34m:\u001b[0m\u001b[0;34m\u001b[0m\u001b[0;34m\u001b[0m\u001b[0m\n\u001b[1;32m     18\u001b[0m         \u001b[0mself\u001b[0m\u001b[0;34m.\u001b[0m\u001b[0mtrg_sentences\u001b[0m\u001b[0;34m.\u001b[0m\u001b[0mappend\u001b[0m\u001b[0;34m(\u001b[0m\u001b[0mline\u001b[0m\u001b[0;34m.\u001b[0m\u001b[0mstrip\u001b[0m\u001b[0;34m(\u001b[0m\u001b[0;34m)\u001b[0m\u001b[0;34m)\u001b[0m\u001b[0;34m\u001b[0m\u001b[0;34m\u001b[0m\u001b[0m\n",
            "\u001b[0;31mFileNotFoundError\u001b[0m: [Errno 2] No such file or directory: '/content/spa_Latn.dev'"
          ]
        }
      ],
      "source": [
        "train_dataset = FloresDataset(\"/content/{}_Latn.dev\".format(src_lang), \"/content/{}_Latn.dev\".format(trg_lang), tokenizer)\n",
        "eval_dataset = FloresDataset(\"/content/{}_Latn.devtest\".format(src_lang), \"/content/{}_Latn.devtest\".format(trg_lang), tokenizer)\n",
        "print(\"Number of samples in the train set: {}\".format(len(train_dataset)))\n",
        "print(\"Number of samples in the eval set: {}\".format(len(eval_dataset)))"
      ]
    },
    {
      "cell_type": "code",
      "execution_count": null,
      "metadata": {
        "colab": {
          "base_uri": "https://localhost:8080/",
          "height": 183
        },
        "id": "X-IFQZzvbmyb",
        "outputId": "8203a9db-c998-41fa-e805-104c6678edec"
      },
      "outputs": [
        {
          "ename": "NameError",
          "evalue": "ignored",
          "output_type": "error",
          "traceback": [
            "\u001b[0;31m---------------------------------------------------------------------------\u001b[0m",
            "\u001b[0;31mNameError\u001b[0m                                 Traceback (most recent call last)",
            "\u001b[0;32m<ipython-input-15-b34f6d867899>\u001b[0m in \u001b[0;36m<module>\u001b[0;34m\u001b[0m\n\u001b[0;32m----> 1\u001b[0;31m \u001b[0mtrain_dataloader\u001b[0m \u001b[0;34m=\u001b[0m \u001b[0mDataLoader\u001b[0m\u001b[0;34m(\u001b[0m\u001b[0mtrain_dataset\u001b[0m\u001b[0;34m,\u001b[0m \u001b[0mbatch_size\u001b[0m\u001b[0;34m=\u001b[0m\u001b[0mbatch_size\u001b[0m\u001b[0;34m,\u001b[0m \u001b[0mshuffle\u001b[0m\u001b[0;34m=\u001b[0m\u001b[0;32mTrue\u001b[0m\u001b[0;34m)\u001b[0m\u001b[0;34m\u001b[0m\u001b[0;34m\u001b[0m\u001b[0m\n\u001b[0m\u001b[1;32m      2\u001b[0m \u001b[0meval_dataloader\u001b[0m \u001b[0;34m=\u001b[0m \u001b[0mDataLoader\u001b[0m\u001b[0;34m(\u001b[0m\u001b[0meval_dataset\u001b[0m\u001b[0;34m,\u001b[0m \u001b[0mbatch_size\u001b[0m\u001b[0;34m=\u001b[0m\u001b[0mbatch_size\u001b[0m\u001b[0;34m,\u001b[0m \u001b[0mshuffle\u001b[0m\u001b[0;34m=\u001b[0m\u001b[0;32mTrue\u001b[0m\u001b[0;34m)\u001b[0m\u001b[0;34m\u001b[0m\u001b[0;34m\u001b[0m\u001b[0m\n",
            "\u001b[0;31mNameError\u001b[0m: name 'train_dataset' is not defined"
          ]
        }
      ],
      "source": [
        "train_dataloader = DataLoader(train_dataset, batch_size=batch_size, shuffle=True)\n",
        "eval_dataloader = DataLoader(eval_dataset, batch_size=batch_size, shuffle=True)"
      ]
    },
    {
      "cell_type": "markdown",
      "metadata": {
        "id": "YIu9FMv_V_4Y"
      },
      "source": [
        "## Fine-Tuning"
      ]
    },
    {
      "cell_type": "code",
      "execution_count": null,
      "metadata": {
        "id": "BfduTCjEFzoP"
      },
      "outputs": [],
      "source": [
        "AVAIL_GPUS = 0\n",
        "if torch.cuda.is_available():       \n",
        "    device = torch.device(\"cuda\")\n",
        "    AVAIL_GPUS = torch.cuda.device_count()\n",
        "    print(f'There are {AVAIL_GPUS} GPU(s) available.')\n",
        "    print('Device name:', torch.cuda.get_device_name(0))\n",
        "                                                                                                                                                                                                                                            \n",
        "else:\n",
        "    print('No GPU available, using the CPU instead.')\n",
        "    device = torch.device(\"cpu\")   "
      ]
    },
    {
      "cell_type": "code",
      "execution_count": null,
      "metadata": {
        "id": "aY5ErqnnJACT"
      },
      "outputs": [],
      "source": [
        "peft_config = LoraConfig(task_type=TaskType.SEQ_2_SEQ_LM, inference_mode=False, r=8, lora_alpha=32, lora_dropout=0.1)\n",
        "model = AutoModelForSeq2SeqLM.from_pretrained(model_name)\n",
        "peft_model = get_peft_model(model, peft_config)\n",
        "peft_model"
      ]
    },
    {
      "cell_type": "code",
      "execution_count": null,
      "metadata": {
        "id": "igl7az5EOHVN"
      },
      "outputs": [],
      "source": [
        "peft_model.print_trainable_parameters()"
      ]
    },
    {
      "cell_type": "code",
      "execution_count": null,
      "metadata": {
        "id": "GT_fENYm-qfB"
      },
      "outputs": [],
      "source": [
        "optimizer = torch.optim.AdamW(peft_model.parameters(), lr=lr)\n",
        "lr_scheduler = get_linear_schedule_with_warmup(\n",
        "    optimizer=optimizer,\n",
        "    num_warmup_steps=0,\n",
        "    num_training_steps=(len(train_dataloader) * num_epochs),\n",
        ")\n",
        "config.optimizer = \"AdamW\""
      ]
    },
    {
      "cell_type": "code",
      "execution_count": null,
      "metadata": {
        "id": "peyT1SyU-sEA"
      },
      "outputs": [],
      "source": [
        "# training and evaluation\n",
        "peft_model = peft_model.to(device)\n",
        "wandb.watch(peft_model, log=\"all\")\n",
        "\n",
        "for epoch in range(num_epochs):\n",
        "    peft_model.train()\n",
        "    total_loss = 0\n",
        "    for step, batch in enumerate(tqdm(train_dataloader)):\n",
        "        batch = {k: v.to(device) for k, v in batch.items()}\n",
        "        outputs = peft_model(**batch)\n",
        "        loss = outputs.loss\n",
        "        total_loss += loss.detach().float()\n",
        "        loss.backward()\n",
        "        optimizer.step()\n",
        "        lr_scheduler.step()\n",
        "        optimizer.zero_grad()\n",
        "\n",
        "    peft_model.eval()\n",
        "    eval_loss = 0\n",
        "    eval_preds = []\n",
        "    for step, batch in enumerate(tqdm(eval_dataloader)):\n",
        "        batch = {k: v.to(device) for k, v in batch.items()}\n",
        "        with torch.no_grad():\n",
        "            outputs = peft_model(**batch)\n",
        "        loss = outputs.loss\n",
        "        eval_loss += loss.detach().float()\n",
        "        eval_preds.extend(\n",
        "            tokenizer.batch_decode(torch.argmax(outputs.logits, -1).detach().cpu().numpy(), skip_special_tokens=True)\n",
        "        )\n",
        "\n",
        "    eval_epoch_loss = eval_loss / len(eval_dataloader)\n",
        "    eval_ppl = torch.exp(eval_epoch_loss)\n",
        "    train_epoch_loss = total_loss / len(train_dataloader)\n",
        "    train_ppl = torch.exp(train_epoch_loss)\n",
        "    print(f\"{epoch=}: {train_ppl=} {train_epoch_loss=} {eval_ppl=} {eval_epoch_loss=}\")\n",
        "    wandb.log({'epoch': epoch + 1, 'train_loss': train_epoch_loss, 'eval_loss':eval_epoch_loss})"
      ]
    },
    {
      "cell_type": "markdown",
      "metadata": {
        "id": "cOsdfLQsVJM8"
      },
      "source": [
        "## Evaluation"
      ]
    },
    {
      "cell_type": "code",
      "execution_count": null,
      "metadata": {
        "id": "feHYh_73mTCP"
      },
      "outputs": [],
      "source": [
        "def get_predictions(model, samples, target):\n",
        "  results = []\n",
        "  for i,m in enumerate(samples):\n",
        "    message = prefix + m\n",
        "    inputs = tokenizer.encode(message, return_tensors=\"pt\").to(\"cuda\")\n",
        "    output = model.generate(inputs=inputs)\n",
        "    results.append([m, tokenizer.decode(output[0]), target[i]])\n",
        "\n",
        "  df = pd.DataFrame(results, columns=[\"source\",\"target\",\"translation\"])\n",
        "  return df"
      ]
    },
    {
      "cell_type": "code",
      "execution_count": null,
      "metadata": {
        "id": "9fd9w0BVYsjw"
      },
      "outputs": [],
      "source": [
        "data_eng = load_dataset(\"gsarti/flores_101\",src_lang)\n",
        "data_fra = load_dataset(\"gsarti/flores_101\",trg_lang)"
      ]
    },
    {
      "cell_type": "code",
      "execution_count": null,
      "metadata": {
        "id": "80OS16cBqhBu"
      },
      "outputs": [],
      "source": [
        "samples = data_eng[\"devtest\"][\"sentence\"][:5]\n",
        "target = data_fra[\"devtest\"][\"sentence\"][:5]\n",
        "results = []"
      ]
    },
    {
      "cell_type": "code",
      "execution_count": null,
      "metadata": {
        "id": "ROkFO1I1q6H0"
      },
      "outputs": [],
      "source": [
        "evaluated_version = \"peft\" # \"peft\" or anything else to evaluate the normal model"
      ]
    },
    {
      "cell_type": "code",
      "execution_count": null,
      "metadata": {
        "id": "sptmvQERmjpg"
      },
      "outputs": [],
      "source": [
        "if evaluated_version == \"peft\":\n",
        "  df = get_predictions(peft_model, samples, target)\n",
        "else:\n",
        "  model = AutoModelForSeq2SeqLM.from_pretrained(model_name)\n",
        "  model = model.to(device)\n",
        "  df = get_predictions(model, samples, target)"
      ]
    },
    {
      "cell_type": "code",
      "execution_count": null,
      "metadata": {
        "id": "Fs_ZFaCUDqC5"
      },
      "outputs": [],
      "source": [
        "eval = Evaluator()\n",
        "df_translation = eval.evaluating_from_dataframe(df)\n",
        "df_translation"
      ]
    },
    {
      "cell_type": "code",
      "execution_count": null,
      "metadata": {
        "id": "IWD_DaVCVLKc"
      },
      "outputs": [],
      "source": [
        "corpus_bleu = eval.calculate_corpus_bleu(df_translation)\n",
        "mean_bleu = eval.calculate_mean_bleu(df_translation)\n",
        "corpus_chrf = eval.calculate_corpus_chrf(df_translation)\n",
        "mean_chrf = eval.calculate_mean_chrf(df_translation)\n",
        "mean_comet = eval.calculate_system_score_COMET(df_translation)\n",
        "print('*** *** ***')\n",
        "print(f'Corpus BLEU: {corpus_bleu}')\n",
        "print(f'Mean BLEU: {mean_bleu}')\n",
        "print('*** *** ***')\n",
        "print(f'Corpus chrf: {corpus_chrf}')\n",
        "print(f'Mean chrf: {mean_chrf}')\n",
        "print('*** *** ***')\n",
        "print(f'\\nMean COMET: {mean_comet}')\n",
        "print('*** *** ***')"
      ]
    },
    {
      "cell_type": "code",
      "execution_count": null,
      "metadata": {
        "id": "AXL8t1IMKZz5"
      },
      "outputs": [],
      "source": [
        "wandb.log({'corpus_bleu': corpus_bleu, 'mean_bleu': mean_bleu, 'corpus_chrf': corpus_chrf, 'mean_chrf': mean_chrf, 'mean_comet':mean_comet})"
      ]
    }
  ],
  "metadata": {
    "accelerator": "GPU",
    "colab": {
      "collapsed_sections": [
        "ayVsaD_iFRcR",
        "ejWLGzHdMDqg",
        "bYEsGHM_Hwvs",
        "YIu9FMv_V_4Y",
        "cOsdfLQsVJM8"
      ],
      "provenance": []
    },
    "gpuClass": "standard",
    "kernelspec": {
      "display_name": "Python 3",
      "language": "python",
      "name": "python3"
    },
    "language_info": {
      "name": "python",
      "version": "3.10.6"
    },
    "vscode": {
      "interpreter": {
        "hash": "916dbcbb3f70747c44a77c7bcd40155683ae19c65e1c03b4aa3499c5328201f1"
      }
    },
    "widgets": {
      "application/vnd.jupyter.widget-state+json": {
        "00646486ccc7445fa9930cbdcc4a177e": {
          "model_module": "@jupyter-widgets/base",
          "model_module_version": "1.2.0",
          "model_name": "LayoutModel",
          "state": {
            "_model_module": "@jupyter-widgets/base",
            "_model_module_version": "1.2.0",
            "_model_name": "LayoutModel",
            "_view_count": null,
            "_view_module": "@jupyter-widgets/base",
            "_view_module_version": "1.2.0",
            "_view_name": "LayoutView",
            "align_content": null,
            "align_items": null,
            "align_self": null,
            "border": null,
            "bottom": null,
            "display": null,
            "flex": null,
            "flex_flow": null,
            "grid_area": null,
            "grid_auto_columns": null,
            "grid_auto_flow": null,
            "grid_auto_rows": null,
            "grid_column": null,
            "grid_gap": null,
            "grid_row": null,
            "grid_template_areas": null,
            "grid_template_columns": null,
            "grid_template_rows": null,
            "height": null,
            "justify_content": null,
            "justify_items": null,
            "left": null,
            "margin": null,
            "max_height": null,
            "max_width": null,
            "min_height": null,
            "min_width": null,
            "object_fit": null,
            "object_position": null,
            "order": null,
            "overflow": null,
            "overflow_x": null,
            "overflow_y": null,
            "padding": null,
            "right": null,
            "top": null,
            "visibility": null,
            "width": null
          }
        },
        "01a972a0214043a1bf8fde82e4b52b19": {
          "model_module": "@jupyter-widgets/controls",
          "model_module_version": "1.5.0",
          "model_name": "HBoxModel",
          "state": {
            "_dom_classes": [],
            "_model_module": "@jupyter-widgets/controls",
            "_model_module_version": "1.5.0",
            "_model_name": "HBoxModel",
            "_view_count": null,
            "_view_module": "@jupyter-widgets/controls",
            "_view_module_version": "1.5.0",
            "_view_name": "HBoxView",
            "box_style": "",
            "children": [
              "IPY_MODEL_927e18769bfd4806832c25b321a9f0c8",
              "IPY_MODEL_9e728a10c1614feaa3424610cea48225",
              "IPY_MODEL_f554958b09ef4eafbf1e820e26ca3bc7"
            ],
            "layout": "IPY_MODEL_83cef5f6c505449caaa9866ba484fa8a"
          }
        },
        "1269e26332cc46b1833636dc3e05e178": {
          "model_module": "@jupyter-widgets/controls",
          "model_module_version": "1.5.0",
          "model_name": "ProgressStyleModel",
          "state": {
            "_model_module": "@jupyter-widgets/controls",
            "_model_module_version": "1.5.0",
            "_model_name": "ProgressStyleModel",
            "_view_count": null,
            "_view_module": "@jupyter-widgets/base",
            "_view_module_version": "1.2.0",
            "_view_name": "StyleView",
            "bar_color": null,
            "description_width": ""
          }
        },
        "1c714e8bf26a46feb31efd0585ba5445": {
          "model_module": "@jupyter-widgets/controls",
          "model_module_version": "1.5.0",
          "model_name": "ProgressStyleModel",
          "state": {
            "_model_module": "@jupyter-widgets/controls",
            "_model_module_version": "1.5.0",
            "_model_name": "ProgressStyleModel",
            "_view_count": null,
            "_view_module": "@jupyter-widgets/base",
            "_view_module_version": "1.2.0",
            "_view_name": "StyleView",
            "bar_color": null,
            "description_width": ""
          }
        },
        "1cec8dc790774830af539f2be1524cfa": {
          "model_module": "@jupyter-widgets/controls",
          "model_module_version": "1.5.0",
          "model_name": "HBoxModel",
          "state": {
            "_dom_classes": [],
            "_model_module": "@jupyter-widgets/controls",
            "_model_module_version": "1.5.0",
            "_model_name": "HBoxModel",
            "_view_count": null,
            "_view_module": "@jupyter-widgets/controls",
            "_view_module_version": "1.5.0",
            "_view_name": "HBoxView",
            "box_style": "",
            "children": [
              "IPY_MODEL_911150df5af24b92808e49858a5ad231",
              "IPY_MODEL_53e068c0797740b39867ce712e0a1111",
              "IPY_MODEL_436b7f58a5784ca4bfb53bbbce47fbac"
            ],
            "layout": "IPY_MODEL_ade1874c7f92427e866640c71bc7ac25"
          }
        },
        "20ef55dd5d1a4f3b99c8437976691c18": {
          "model_module": "@jupyter-widgets/controls",
          "model_module_version": "1.5.0",
          "model_name": "DescriptionStyleModel",
          "state": {
            "_model_module": "@jupyter-widgets/controls",
            "_model_module_version": "1.5.0",
            "_model_name": "DescriptionStyleModel",
            "_view_count": null,
            "_view_module": "@jupyter-widgets/base",
            "_view_module_version": "1.2.0",
            "_view_name": "StyleView",
            "description_width": ""
          }
        },
        "31c6354c9e7b4deaa8d65f2d40e121ad": {
          "model_module": "@jupyter-widgets/controls",
          "model_module_version": "1.5.0",
          "model_name": "DescriptionStyleModel",
          "state": {
            "_model_module": "@jupyter-widgets/controls",
            "_model_module_version": "1.5.0",
            "_model_name": "DescriptionStyleModel",
            "_view_count": null,
            "_view_module": "@jupyter-widgets/base",
            "_view_module_version": "1.2.0",
            "_view_name": "StyleView",
            "description_width": ""
          }
        },
        "414be54e37ce4445abd1f60f584ab6aa": {
          "model_module": "@jupyter-widgets/controls",
          "model_module_version": "1.5.0",
          "model_name": "DescriptionStyleModel",
          "state": {
            "_model_module": "@jupyter-widgets/controls",
            "_model_module_version": "1.5.0",
            "_model_name": "DescriptionStyleModel",
            "_view_count": null,
            "_view_module": "@jupyter-widgets/base",
            "_view_module_version": "1.2.0",
            "_view_name": "StyleView",
            "description_width": ""
          }
        },
        "436b7f58a5784ca4bfb53bbbce47fbac": {
          "model_module": "@jupyter-widgets/controls",
          "model_module_version": "1.5.0",
          "model_name": "HTMLModel",
          "state": {
            "_dom_classes": [],
            "_model_module": "@jupyter-widgets/controls",
            "_model_module_version": "1.5.0",
            "_model_name": "HTMLModel",
            "_view_count": null,
            "_view_module": "@jupyter-widgets/controls",
            "_view_module_version": "1.5.0",
            "_view_name": "HTMLView",
            "description": "",
            "description_tooltip": null,
            "layout": "IPY_MODEL_c3c626816dbd44129de3cc85be2b675f",
            "placeholder": "​",
            "style": "IPY_MODEL_20ef55dd5d1a4f3b99c8437976691c18",
            "value": " 553/553 [00:00&lt;00:00, 23.3kB/s]"
          }
        },
        "44e6d881b9d441f0beda75ad13d76052": {
          "model_module": "@jupyter-widgets/base",
          "model_module_version": "1.2.0",
          "model_name": "LayoutModel",
          "state": {
            "_model_module": "@jupyter-widgets/base",
            "_model_module_version": "1.2.0",
            "_model_name": "LayoutModel",
            "_view_count": null,
            "_view_module": "@jupyter-widgets/base",
            "_view_module_version": "1.2.0",
            "_view_name": "LayoutView",
            "align_content": null,
            "align_items": null,
            "align_self": null,
            "border": null,
            "bottom": null,
            "display": null,
            "flex": null,
            "flex_flow": null,
            "grid_area": null,
            "grid_auto_columns": null,
            "grid_auto_flow": null,
            "grid_auto_rows": null,
            "grid_column": null,
            "grid_gap": null,
            "grid_row": null,
            "grid_template_areas": null,
            "grid_template_columns": null,
            "grid_template_rows": null,
            "height": null,
            "justify_content": null,
            "justify_items": null,
            "left": null,
            "margin": null,
            "max_height": null,
            "max_width": null,
            "min_height": null,
            "min_width": null,
            "object_fit": null,
            "object_position": null,
            "order": null,
            "overflow": null,
            "overflow_x": null,
            "overflow_y": null,
            "padding": null,
            "right": null,
            "top": null,
            "visibility": null,
            "width": null
          }
        },
        "4bbe37082014479badffdccd5c801b31": {
          "model_module": "@jupyter-widgets/controls",
          "model_module_version": "1.5.0",
          "model_name": "HBoxModel",
          "state": {
            "_dom_classes": [],
            "_model_module": "@jupyter-widgets/controls",
            "_model_module_version": "1.5.0",
            "_model_name": "HBoxModel",
            "_view_count": null,
            "_view_module": "@jupyter-widgets/controls",
            "_view_module_version": "1.5.0",
            "_view_name": "HBoxView",
            "box_style": "",
            "children": [
              "IPY_MODEL_580a0e9ed87f47378233eb09f7328321",
              "IPY_MODEL_af0db66301074b04aacb4b6408c6fc99",
              "IPY_MODEL_71e82ec2a73b45eb97f5a21ed232ae83"
            ],
            "layout": "IPY_MODEL_64fbccee56b54df488e1beb78e0d9a3a"
          }
        },
        "53e068c0797740b39867ce712e0a1111": {
          "model_module": "@jupyter-widgets/controls",
          "model_module_version": "1.5.0",
          "model_name": "FloatProgressModel",
          "state": {
            "_dom_classes": [],
            "_model_module": "@jupyter-widgets/controls",
            "_model_module_version": "1.5.0",
            "_model_name": "FloatProgressModel",
            "_view_count": null,
            "_view_module": "@jupyter-widgets/controls",
            "_view_module_version": "1.5.0",
            "_view_name": "ProgressView",
            "bar_style": "success",
            "description": "",
            "description_tooltip": null,
            "layout": "IPY_MODEL_9f2527e90a9b4a34a7b97e821db1d4c5",
            "max": 553,
            "min": 0,
            "orientation": "horizontal",
            "style": "IPY_MODEL_1269e26332cc46b1833636dc3e05e178",
            "value": 553
          }
        },
        "580a0e9ed87f47378233eb09f7328321": {
          "model_module": "@jupyter-widgets/controls",
          "model_module_version": "1.5.0",
          "model_name": "HTMLModel",
          "state": {
            "_dom_classes": [],
            "_model_module": "@jupyter-widgets/controls",
            "_model_module_version": "1.5.0",
            "_model_name": "HTMLModel",
            "_view_count": null,
            "_view_module": "@jupyter-widgets/controls",
            "_view_module_version": "1.5.0",
            "_view_name": "HTMLView",
            "description": "",
            "description_tooltip": null,
            "layout": "IPY_MODEL_00646486ccc7445fa9930cbdcc4a177e",
            "placeholder": "​",
            "style": "IPY_MODEL_e29ea08b95e940a5af158dad4f84294d",
            "value": "Downloading (…)cial_tokens_map.json: 100%"
          }
        },
        "5ceee59922f848a5b5be692c2fb51783": {
          "model_module": "@jupyter-widgets/controls",
          "model_module_version": "1.5.0",
          "model_name": "DescriptionStyleModel",
          "state": {
            "_model_module": "@jupyter-widgets/controls",
            "_model_module_version": "1.5.0",
            "_model_name": "DescriptionStyleModel",
            "_view_count": null,
            "_view_module": "@jupyter-widgets/base",
            "_view_module_version": "1.2.0",
            "_view_name": "StyleView",
            "description_width": ""
          }
        },
        "64fbccee56b54df488e1beb78e0d9a3a": {
          "model_module": "@jupyter-widgets/base",
          "model_module_version": "1.2.0",
          "model_name": "LayoutModel",
          "state": {
            "_model_module": "@jupyter-widgets/base",
            "_model_module_version": "1.2.0",
            "_model_name": "LayoutModel",
            "_view_count": null,
            "_view_module": "@jupyter-widgets/base",
            "_view_module_version": "1.2.0",
            "_view_name": "LayoutView",
            "align_content": null,
            "align_items": null,
            "align_self": null,
            "border": null,
            "bottom": null,
            "display": null,
            "flex": null,
            "flex_flow": null,
            "grid_area": null,
            "grid_auto_columns": null,
            "grid_auto_flow": null,
            "grid_auto_rows": null,
            "grid_column": null,
            "grid_gap": null,
            "grid_row": null,
            "grid_template_areas": null,
            "grid_template_columns": null,
            "grid_template_rows": null,
            "height": null,
            "justify_content": null,
            "justify_items": null,
            "left": null,
            "margin": null,
            "max_height": null,
            "max_width": null,
            "min_height": null,
            "min_width": null,
            "object_fit": null,
            "object_position": null,
            "order": null,
            "overflow": null,
            "overflow_x": null,
            "overflow_y": null,
            "padding": null,
            "right": null,
            "top": null,
            "visibility": null,
            "width": null
          }
        },
        "6dd11e2e7ee04c86834134ae8ddbc362": {
          "model_module": "@jupyter-widgets/controls",
          "model_module_version": "1.5.0",
          "model_name": "DescriptionStyleModel",
          "state": {
            "_model_module": "@jupyter-widgets/controls",
            "_model_module_version": "1.5.0",
            "_model_name": "DescriptionStyleModel",
            "_view_count": null,
            "_view_module": "@jupyter-widgets/base",
            "_view_module_version": "1.2.0",
            "_view_name": "StyleView",
            "description_width": ""
          }
        },
        "71e82ec2a73b45eb97f5a21ed232ae83": {
          "model_module": "@jupyter-widgets/controls",
          "model_module_version": "1.5.0",
          "model_name": "HTMLModel",
          "state": {
            "_dom_classes": [],
            "_model_module": "@jupyter-widgets/controls",
            "_model_module_version": "1.5.0",
            "_model_name": "HTMLModel",
            "_view_count": null,
            "_view_module": "@jupyter-widgets/controls",
            "_view_module_version": "1.5.0",
            "_view_name": "HTMLView",
            "description": "",
            "description_tooltip": null,
            "layout": "IPY_MODEL_ee545238addf48528186d3d04289e30f",
            "placeholder": "​",
            "style": "IPY_MODEL_31c6354c9e7b4deaa8d65f2d40e121ad",
            "value": " 99.0/99.0 [00:00&lt;00:00, 2.93kB/s]"
          }
        },
        "83cef5f6c505449caaa9866ba484fa8a": {
          "model_module": "@jupyter-widgets/base",
          "model_module_version": "1.2.0",
          "model_name": "LayoutModel",
          "state": {
            "_model_module": "@jupyter-widgets/base",
            "_model_module_version": "1.2.0",
            "_model_name": "LayoutModel",
            "_view_count": null,
            "_view_module": "@jupyter-widgets/base",
            "_view_module_version": "1.2.0",
            "_view_name": "LayoutView",
            "align_content": null,
            "align_items": null,
            "align_self": null,
            "border": null,
            "bottom": null,
            "display": null,
            "flex": null,
            "flex_flow": null,
            "grid_area": null,
            "grid_auto_columns": null,
            "grid_auto_flow": null,
            "grid_auto_rows": null,
            "grid_column": null,
            "grid_gap": null,
            "grid_row": null,
            "grid_template_areas": null,
            "grid_template_columns": null,
            "grid_template_rows": null,
            "height": null,
            "justify_content": null,
            "justify_items": null,
            "left": null,
            "margin": null,
            "max_height": null,
            "max_width": null,
            "min_height": null,
            "min_width": null,
            "object_fit": null,
            "object_position": null,
            "order": null,
            "overflow": null,
            "overflow_x": null,
            "overflow_y": null,
            "padding": null,
            "right": null,
            "top": null,
            "visibility": null,
            "width": null
          }
        },
        "911150df5af24b92808e49858a5ad231": {
          "model_module": "@jupyter-widgets/controls",
          "model_module_version": "1.5.0",
          "model_name": "HTMLModel",
          "state": {
            "_dom_classes": [],
            "_model_module": "@jupyter-widgets/controls",
            "_model_module_version": "1.5.0",
            "_model_name": "HTMLModel",
            "_view_count": null,
            "_view_module": "@jupyter-widgets/controls",
            "_view_module_version": "1.5.0",
            "_view_name": "HTMLView",
            "description": "",
            "description_tooltip": null,
            "layout": "IPY_MODEL_ef9771d7ce224400bf5ce5e022a344d9",
            "placeholder": "​",
            "style": "IPY_MODEL_becaefb00f874812ba75c51f147d4ba6",
            "value": "Downloading (…)lve/main/config.json: 100%"
          }
        },
        "927e18769bfd4806832c25b321a9f0c8": {
          "model_module": "@jupyter-widgets/controls",
          "model_module_version": "1.5.0",
          "model_name": "HTMLModel",
          "state": {
            "_dom_classes": [],
            "_model_module": "@jupyter-widgets/controls",
            "_model_module_version": "1.5.0",
            "_model_name": "HTMLModel",
            "_view_count": null,
            "_view_module": "@jupyter-widgets/controls",
            "_view_module_version": "1.5.0",
            "_view_name": "HTMLView",
            "description": "",
            "description_tooltip": null,
            "layout": "IPY_MODEL_c996d0049f914876900e16f3d5044a7c",
            "placeholder": "​",
            "style": "IPY_MODEL_6dd11e2e7ee04c86834134ae8ddbc362",
            "value": "Downloading (…)okenizer_config.json: 100%"
          }
        },
        "9e728a10c1614feaa3424610cea48225": {
          "model_module": "@jupyter-widgets/controls",
          "model_module_version": "1.5.0",
          "model_name": "FloatProgressModel",
          "state": {
            "_dom_classes": [],
            "_model_module": "@jupyter-widgets/controls",
            "_model_module_version": "1.5.0",
            "_model_name": "FloatProgressModel",
            "_view_count": null,
            "_view_module": "@jupyter-widgets/controls",
            "_view_module_version": "1.5.0",
            "_view_name": "ProgressView",
            "bar_style": "success",
            "description": "",
            "description_tooltip": null,
            "layout": "IPY_MODEL_d9200277dbf147e69cb1b926c225f074",
            "max": 82,
            "min": 0,
            "orientation": "horizontal",
            "style": "IPY_MODEL_b7a33230270e430da8395cd159e2a503",
            "value": 82
          }
        },
        "9f2527e90a9b4a34a7b97e821db1d4c5": {
          "model_module": "@jupyter-widgets/base",
          "model_module_version": "1.2.0",
          "model_name": "LayoutModel",
          "state": {
            "_model_module": "@jupyter-widgets/base",
            "_model_module_version": "1.2.0",
            "_model_name": "LayoutModel",
            "_view_count": null,
            "_view_module": "@jupyter-widgets/base",
            "_view_module_version": "1.2.0",
            "_view_name": "LayoutView",
            "align_content": null,
            "align_items": null,
            "align_self": null,
            "border": null,
            "bottom": null,
            "display": null,
            "flex": null,
            "flex_flow": null,
            "grid_area": null,
            "grid_auto_columns": null,
            "grid_auto_flow": null,
            "grid_auto_rows": null,
            "grid_column": null,
            "grid_gap": null,
            "grid_row": null,
            "grid_template_areas": null,
            "grid_template_columns": null,
            "grid_template_rows": null,
            "height": null,
            "justify_content": null,
            "justify_items": null,
            "left": null,
            "margin": null,
            "max_height": null,
            "max_width": null,
            "min_height": null,
            "min_width": null,
            "object_fit": null,
            "object_position": null,
            "order": null,
            "overflow": null,
            "overflow_x": null,
            "overflow_y": null,
            "padding": null,
            "right": null,
            "top": null,
            "visibility": null,
            "width": null
          }
        },
        "ac226e137f364a5a896094d99cc718ae": {
          "model_module": "@jupyter-widgets/controls",
          "model_module_version": "1.5.0",
          "model_name": "DescriptionStyleModel",
          "state": {
            "_model_module": "@jupyter-widgets/controls",
            "_model_module_version": "1.5.0",
            "_model_name": "DescriptionStyleModel",
            "_view_count": null,
            "_view_module": "@jupyter-widgets/base",
            "_view_module_version": "1.2.0",
            "_view_name": "StyleView",
            "description_width": ""
          }
        },
        "ade1874c7f92427e866640c71bc7ac25": {
          "model_module": "@jupyter-widgets/base",
          "model_module_version": "1.2.0",
          "model_name": "LayoutModel",
          "state": {
            "_model_module": "@jupyter-widgets/base",
            "_model_module_version": "1.2.0",
            "_model_name": "LayoutModel",
            "_view_count": null,
            "_view_module": "@jupyter-widgets/base",
            "_view_module_version": "1.2.0",
            "_view_name": "LayoutView",
            "align_content": null,
            "align_items": null,
            "align_self": null,
            "border": null,
            "bottom": null,
            "display": null,
            "flex": null,
            "flex_flow": null,
            "grid_area": null,
            "grid_auto_columns": null,
            "grid_auto_flow": null,
            "grid_auto_rows": null,
            "grid_column": null,
            "grid_gap": null,
            "grid_row": null,
            "grid_template_areas": null,
            "grid_template_columns": null,
            "grid_template_rows": null,
            "height": null,
            "justify_content": null,
            "justify_items": null,
            "left": null,
            "margin": null,
            "max_height": null,
            "max_width": null,
            "min_height": null,
            "min_width": null,
            "object_fit": null,
            "object_position": null,
            "order": null,
            "overflow": null,
            "overflow_x": null,
            "overflow_y": null,
            "padding": null,
            "right": null,
            "top": null,
            "visibility": null,
            "width": null
          }
        },
        "af0db66301074b04aacb4b6408c6fc99": {
          "model_module": "@jupyter-widgets/controls",
          "model_module_version": "1.5.0",
          "model_name": "FloatProgressModel",
          "state": {
            "_dom_classes": [],
            "_model_module": "@jupyter-widgets/controls",
            "_model_module_version": "1.5.0",
            "_model_name": "FloatProgressModel",
            "_view_count": null,
            "_view_module": "@jupyter-widgets/controls",
            "_view_module_version": "1.5.0",
            "_view_name": "ProgressView",
            "bar_style": "success",
            "description": "",
            "description_tooltip": null,
            "layout": "IPY_MODEL_d364a5ec77a7400ebb7aa457d1a11bd5",
            "max": 99,
            "min": 0,
            "orientation": "horizontal",
            "style": "IPY_MODEL_1c714e8bf26a46feb31efd0585ba5445",
            "value": 99
          }
        },
        "b1ecaeceba3a4af48dc6ee40d1883725": {
          "model_module": "@jupyter-widgets/base",
          "model_module_version": "1.2.0",
          "model_name": "LayoutModel",
          "state": {
            "_model_module": "@jupyter-widgets/base",
            "_model_module_version": "1.2.0",
            "_model_name": "LayoutModel",
            "_view_count": null,
            "_view_module": "@jupyter-widgets/base",
            "_view_module_version": "1.2.0",
            "_view_name": "LayoutView",
            "align_content": null,
            "align_items": null,
            "align_self": null,
            "border": null,
            "bottom": null,
            "display": null,
            "flex": null,
            "flex_flow": null,
            "grid_area": null,
            "grid_auto_columns": null,
            "grid_auto_flow": null,
            "grid_auto_rows": null,
            "grid_column": null,
            "grid_gap": null,
            "grid_row": null,
            "grid_template_areas": null,
            "grid_template_columns": null,
            "grid_template_rows": null,
            "height": null,
            "justify_content": null,
            "justify_items": null,
            "left": null,
            "margin": null,
            "max_height": null,
            "max_width": null,
            "min_height": null,
            "min_width": null,
            "object_fit": null,
            "object_position": null,
            "order": null,
            "overflow": null,
            "overflow_x": null,
            "overflow_y": null,
            "padding": null,
            "right": null,
            "top": null,
            "visibility": null,
            "width": null
          }
        },
        "b7a33230270e430da8395cd159e2a503": {
          "model_module": "@jupyter-widgets/controls",
          "model_module_version": "1.5.0",
          "model_name": "ProgressStyleModel",
          "state": {
            "_model_module": "@jupyter-widgets/controls",
            "_model_module_version": "1.5.0",
            "_model_name": "ProgressStyleModel",
            "_view_count": null,
            "_view_module": "@jupyter-widgets/base",
            "_view_module_version": "1.2.0",
            "_view_name": "StyleView",
            "bar_color": null,
            "description_width": ""
          }
        },
        "b7f1405292fb428ab716733ea088584f": {
          "model_module": "@jupyter-widgets/controls",
          "model_module_version": "1.5.0",
          "model_name": "ProgressStyleModel",
          "state": {
            "_model_module": "@jupyter-widgets/controls",
            "_model_module_version": "1.5.0",
            "_model_name": "ProgressStyleModel",
            "_view_count": null,
            "_view_module": "@jupyter-widgets/base",
            "_view_module_version": "1.2.0",
            "_view_name": "StyleView",
            "bar_color": null,
            "description_width": ""
          }
        },
        "becaefb00f874812ba75c51f147d4ba6": {
          "model_module": "@jupyter-widgets/controls",
          "model_module_version": "1.5.0",
          "model_name": "DescriptionStyleModel",
          "state": {
            "_model_module": "@jupyter-widgets/controls",
            "_model_module_version": "1.5.0",
            "_model_name": "DescriptionStyleModel",
            "_view_count": null,
            "_view_module": "@jupyter-widgets/base",
            "_view_module_version": "1.2.0",
            "_view_name": "StyleView",
            "description_width": ""
          }
        },
        "c3c626816dbd44129de3cc85be2b675f": {
          "model_module": "@jupyter-widgets/base",
          "model_module_version": "1.2.0",
          "model_name": "LayoutModel",
          "state": {
            "_model_module": "@jupyter-widgets/base",
            "_model_module_version": "1.2.0",
            "_model_name": "LayoutModel",
            "_view_count": null,
            "_view_module": "@jupyter-widgets/base",
            "_view_module_version": "1.2.0",
            "_view_name": "LayoutView",
            "align_content": null,
            "align_items": null,
            "align_self": null,
            "border": null,
            "bottom": null,
            "display": null,
            "flex": null,
            "flex_flow": null,
            "grid_area": null,
            "grid_auto_columns": null,
            "grid_auto_flow": null,
            "grid_auto_rows": null,
            "grid_column": null,
            "grid_gap": null,
            "grid_row": null,
            "grid_template_areas": null,
            "grid_template_columns": null,
            "grid_template_rows": null,
            "height": null,
            "justify_content": null,
            "justify_items": null,
            "left": null,
            "margin": null,
            "max_height": null,
            "max_width": null,
            "min_height": null,
            "min_width": null,
            "object_fit": null,
            "object_position": null,
            "order": null,
            "overflow": null,
            "overflow_x": null,
            "overflow_y": null,
            "padding": null,
            "right": null,
            "top": null,
            "visibility": null,
            "width": null
          }
        },
        "c5ba057eaf334cedae9c810faed1efbe": {
          "model_module": "@jupyter-widgets/base",
          "model_module_version": "1.2.0",
          "model_name": "LayoutModel",
          "state": {
            "_model_module": "@jupyter-widgets/base",
            "_model_module_version": "1.2.0",
            "_model_name": "LayoutModel",
            "_view_count": null,
            "_view_module": "@jupyter-widgets/base",
            "_view_module_version": "1.2.0",
            "_view_name": "LayoutView",
            "align_content": null,
            "align_items": null,
            "align_self": null,
            "border": null,
            "bottom": null,
            "display": null,
            "flex": null,
            "flex_flow": null,
            "grid_area": null,
            "grid_auto_columns": null,
            "grid_auto_flow": null,
            "grid_auto_rows": null,
            "grid_column": null,
            "grid_gap": null,
            "grid_row": null,
            "grid_template_areas": null,
            "grid_template_columns": null,
            "grid_template_rows": null,
            "height": null,
            "justify_content": null,
            "justify_items": null,
            "left": null,
            "margin": null,
            "max_height": null,
            "max_width": null,
            "min_height": null,
            "min_width": null,
            "object_fit": null,
            "object_position": null,
            "order": null,
            "overflow": null,
            "overflow_x": null,
            "overflow_y": null,
            "padding": null,
            "right": null,
            "top": null,
            "visibility": null,
            "width": null
          }
        },
        "c801ad523d2f49b790c5f046e9a719c5": {
          "model_module": "@jupyter-widgets/controls",
          "model_module_version": "1.5.0",
          "model_name": "FloatProgressModel",
          "state": {
            "_dom_classes": [],
            "_model_module": "@jupyter-widgets/controls",
            "_model_module_version": "1.5.0",
            "_model_name": "FloatProgressModel",
            "_view_count": null,
            "_view_module": "@jupyter-widgets/controls",
            "_view_module_version": "1.5.0",
            "_view_name": "ProgressView",
            "bar_style": "success",
            "description": "",
            "description_tooltip": null,
            "layout": "IPY_MODEL_ef38259376554c67b506bc531709cd71",
            "max": 4309802,
            "min": 0,
            "orientation": "horizontal",
            "style": "IPY_MODEL_b7f1405292fb428ab716733ea088584f",
            "value": 4309802
          }
        },
        "c996d0049f914876900e16f3d5044a7c": {
          "model_module": "@jupyter-widgets/base",
          "model_module_version": "1.2.0",
          "model_name": "LayoutModel",
          "state": {
            "_model_module": "@jupyter-widgets/base",
            "_model_module_version": "1.2.0",
            "_model_name": "LayoutModel",
            "_view_count": null,
            "_view_module": "@jupyter-widgets/base",
            "_view_module_version": "1.2.0",
            "_view_name": "LayoutView",
            "align_content": null,
            "align_items": null,
            "align_self": null,
            "border": null,
            "bottom": null,
            "display": null,
            "flex": null,
            "flex_flow": null,
            "grid_area": null,
            "grid_auto_columns": null,
            "grid_auto_flow": null,
            "grid_auto_rows": null,
            "grid_column": null,
            "grid_gap": null,
            "grid_row": null,
            "grid_template_areas": null,
            "grid_template_columns": null,
            "grid_template_rows": null,
            "height": null,
            "justify_content": null,
            "justify_items": null,
            "left": null,
            "margin": null,
            "max_height": null,
            "max_width": null,
            "min_height": null,
            "min_width": null,
            "object_fit": null,
            "object_position": null,
            "order": null,
            "overflow": null,
            "overflow_x": null,
            "overflow_y": null,
            "padding": null,
            "right": null,
            "top": null,
            "visibility": null,
            "width": null
          }
        },
        "d364a5ec77a7400ebb7aa457d1a11bd5": {
          "model_module": "@jupyter-widgets/base",
          "model_module_version": "1.2.0",
          "model_name": "LayoutModel",
          "state": {
            "_model_module": "@jupyter-widgets/base",
            "_model_module_version": "1.2.0",
            "_model_name": "LayoutModel",
            "_view_count": null,
            "_view_module": "@jupyter-widgets/base",
            "_view_module_version": "1.2.0",
            "_view_name": "LayoutView",
            "align_content": null,
            "align_items": null,
            "align_self": null,
            "border": null,
            "bottom": null,
            "display": null,
            "flex": null,
            "flex_flow": null,
            "grid_area": null,
            "grid_auto_columns": null,
            "grid_auto_flow": null,
            "grid_auto_rows": null,
            "grid_column": null,
            "grid_gap": null,
            "grid_row": null,
            "grid_template_areas": null,
            "grid_template_columns": null,
            "grid_template_rows": null,
            "height": null,
            "justify_content": null,
            "justify_items": null,
            "left": null,
            "margin": null,
            "max_height": null,
            "max_width": null,
            "min_height": null,
            "min_width": null,
            "object_fit": null,
            "object_position": null,
            "order": null,
            "overflow": null,
            "overflow_x": null,
            "overflow_y": null,
            "padding": null,
            "right": null,
            "top": null,
            "visibility": null,
            "width": null
          }
        },
        "d7323c2b471d42d29e914eebfd5ea55f": {
          "model_module": "@jupyter-widgets/controls",
          "model_module_version": "1.5.0",
          "model_name": "HTMLModel",
          "state": {
            "_dom_classes": [],
            "_model_module": "@jupyter-widgets/controls",
            "_model_module_version": "1.5.0",
            "_model_name": "HTMLModel",
            "_view_count": null,
            "_view_module": "@jupyter-widgets/controls",
            "_view_module_version": "1.5.0",
            "_view_name": "HTMLView",
            "description": "",
            "description_tooltip": null,
            "layout": "IPY_MODEL_f99cc0d6e26e419e92fd61f34255f2eb",
            "placeholder": "​",
            "style": "IPY_MODEL_5ceee59922f848a5b5be692c2fb51783",
            "value": " 4.31M/4.31M [00:00&lt;00:00, 25.7MB/s]"
          }
        },
        "d9200277dbf147e69cb1b926c225f074": {
          "model_module": "@jupyter-widgets/base",
          "model_module_version": "1.2.0",
          "model_name": "LayoutModel",
          "state": {
            "_model_module": "@jupyter-widgets/base",
            "_model_module_version": "1.2.0",
            "_model_name": "LayoutModel",
            "_view_count": null,
            "_view_module": "@jupyter-widgets/base",
            "_view_module_version": "1.2.0",
            "_view_name": "LayoutView",
            "align_content": null,
            "align_items": null,
            "align_self": null,
            "border": null,
            "bottom": null,
            "display": null,
            "flex": null,
            "flex_flow": null,
            "grid_area": null,
            "grid_auto_columns": null,
            "grid_auto_flow": null,
            "grid_auto_rows": null,
            "grid_column": null,
            "grid_gap": null,
            "grid_row": null,
            "grid_template_areas": null,
            "grid_template_columns": null,
            "grid_template_rows": null,
            "height": null,
            "justify_content": null,
            "justify_items": null,
            "left": null,
            "margin": null,
            "max_height": null,
            "max_width": null,
            "min_height": null,
            "min_width": null,
            "object_fit": null,
            "object_position": null,
            "order": null,
            "overflow": null,
            "overflow_x": null,
            "overflow_y": null,
            "padding": null,
            "right": null,
            "top": null,
            "visibility": null,
            "width": null
          }
        },
        "dbb2edabdb6c42c4be1872986bf172cf": {
          "model_module": "@jupyter-widgets/controls",
          "model_module_version": "1.5.0",
          "model_name": "HBoxModel",
          "state": {
            "_dom_classes": [],
            "_model_module": "@jupyter-widgets/controls",
            "_model_module_version": "1.5.0",
            "_model_name": "HBoxModel",
            "_view_count": null,
            "_view_module": "@jupyter-widgets/controls",
            "_view_module_version": "1.5.0",
            "_view_name": "HBoxView",
            "box_style": "",
            "children": [
              "IPY_MODEL_f9211e37805e421ca3b0651fe8f8e2e4",
              "IPY_MODEL_c801ad523d2f49b790c5f046e9a719c5",
              "IPY_MODEL_d7323c2b471d42d29e914eebfd5ea55f"
            ],
            "layout": "IPY_MODEL_b1ecaeceba3a4af48dc6ee40d1883725"
          }
        },
        "e29ea08b95e940a5af158dad4f84294d": {
          "model_module": "@jupyter-widgets/controls",
          "model_module_version": "1.5.0",
          "model_name": "DescriptionStyleModel",
          "state": {
            "_model_module": "@jupyter-widgets/controls",
            "_model_module_version": "1.5.0",
            "_model_name": "DescriptionStyleModel",
            "_view_count": null,
            "_view_module": "@jupyter-widgets/base",
            "_view_module_version": "1.2.0",
            "_view_name": "StyleView",
            "description_width": ""
          }
        },
        "ee545238addf48528186d3d04289e30f": {
          "model_module": "@jupyter-widgets/base",
          "model_module_version": "1.2.0",
          "model_name": "LayoutModel",
          "state": {
            "_model_module": "@jupyter-widgets/base",
            "_model_module_version": "1.2.0",
            "_model_name": "LayoutModel",
            "_view_count": null,
            "_view_module": "@jupyter-widgets/base",
            "_view_module_version": "1.2.0",
            "_view_name": "LayoutView",
            "align_content": null,
            "align_items": null,
            "align_self": null,
            "border": null,
            "bottom": null,
            "display": null,
            "flex": null,
            "flex_flow": null,
            "grid_area": null,
            "grid_auto_columns": null,
            "grid_auto_flow": null,
            "grid_auto_rows": null,
            "grid_column": null,
            "grid_gap": null,
            "grid_row": null,
            "grid_template_areas": null,
            "grid_template_columns": null,
            "grid_template_rows": null,
            "height": null,
            "justify_content": null,
            "justify_items": null,
            "left": null,
            "margin": null,
            "max_height": null,
            "max_width": null,
            "min_height": null,
            "min_width": null,
            "object_fit": null,
            "object_position": null,
            "order": null,
            "overflow": null,
            "overflow_x": null,
            "overflow_y": null,
            "padding": null,
            "right": null,
            "top": null,
            "visibility": null,
            "width": null
          }
        },
        "ef38259376554c67b506bc531709cd71": {
          "model_module": "@jupyter-widgets/base",
          "model_module_version": "1.2.0",
          "model_name": "LayoutModel",
          "state": {
            "_model_module": "@jupyter-widgets/base",
            "_model_module_version": "1.2.0",
            "_model_name": "LayoutModel",
            "_view_count": null,
            "_view_module": "@jupyter-widgets/base",
            "_view_module_version": "1.2.0",
            "_view_name": "LayoutView",
            "align_content": null,
            "align_items": null,
            "align_self": null,
            "border": null,
            "bottom": null,
            "display": null,
            "flex": null,
            "flex_flow": null,
            "grid_area": null,
            "grid_auto_columns": null,
            "grid_auto_flow": null,
            "grid_auto_rows": null,
            "grid_column": null,
            "grid_gap": null,
            "grid_row": null,
            "grid_template_areas": null,
            "grid_template_columns": null,
            "grid_template_rows": null,
            "height": null,
            "justify_content": null,
            "justify_items": null,
            "left": null,
            "margin": null,
            "max_height": null,
            "max_width": null,
            "min_height": null,
            "min_width": null,
            "object_fit": null,
            "object_position": null,
            "order": null,
            "overflow": null,
            "overflow_x": null,
            "overflow_y": null,
            "padding": null,
            "right": null,
            "top": null,
            "visibility": null,
            "width": null
          }
        },
        "ef9771d7ce224400bf5ce5e022a344d9": {
          "model_module": "@jupyter-widgets/base",
          "model_module_version": "1.2.0",
          "model_name": "LayoutModel",
          "state": {
            "_model_module": "@jupyter-widgets/base",
            "_model_module_version": "1.2.0",
            "_model_name": "LayoutModel",
            "_view_count": null,
            "_view_module": "@jupyter-widgets/base",
            "_view_module_version": "1.2.0",
            "_view_name": "LayoutView",
            "align_content": null,
            "align_items": null,
            "align_self": null,
            "border": null,
            "bottom": null,
            "display": null,
            "flex": null,
            "flex_flow": null,
            "grid_area": null,
            "grid_auto_columns": null,
            "grid_auto_flow": null,
            "grid_auto_rows": null,
            "grid_column": null,
            "grid_gap": null,
            "grid_row": null,
            "grid_template_areas": null,
            "grid_template_columns": null,
            "grid_template_rows": null,
            "height": null,
            "justify_content": null,
            "justify_items": null,
            "left": null,
            "margin": null,
            "max_height": null,
            "max_width": null,
            "min_height": null,
            "min_width": null,
            "object_fit": null,
            "object_position": null,
            "order": null,
            "overflow": null,
            "overflow_x": null,
            "overflow_y": null,
            "padding": null,
            "right": null,
            "top": null,
            "visibility": null,
            "width": null
          }
        },
        "f554958b09ef4eafbf1e820e26ca3bc7": {
          "model_module": "@jupyter-widgets/controls",
          "model_module_version": "1.5.0",
          "model_name": "HTMLModel",
          "state": {
            "_dom_classes": [],
            "_model_module": "@jupyter-widgets/controls",
            "_model_module_version": "1.5.0",
            "_model_name": "HTMLModel",
            "_view_count": null,
            "_view_module": "@jupyter-widgets/controls",
            "_view_module_version": "1.5.0",
            "_view_name": "HTMLView",
            "description": "",
            "description_tooltip": null,
            "layout": "IPY_MODEL_c5ba057eaf334cedae9c810faed1efbe",
            "placeholder": "​",
            "style": "IPY_MODEL_414be54e37ce4445abd1f60f584ab6aa",
            "value": " 82.0/82.0 [00:00&lt;00:00, 2.77kB/s]"
          }
        },
        "f9211e37805e421ca3b0651fe8f8e2e4": {
          "model_module": "@jupyter-widgets/controls",
          "model_module_version": "1.5.0",
          "model_name": "HTMLModel",
          "state": {
            "_dom_classes": [],
            "_model_module": "@jupyter-widgets/controls",
            "_model_module_version": "1.5.0",
            "_model_name": "HTMLModel",
            "_view_count": null,
            "_view_module": "@jupyter-widgets/controls",
            "_view_module_version": "1.5.0",
            "_view_name": "HTMLView",
            "description": "",
            "description_tooltip": null,
            "layout": "IPY_MODEL_44e6d881b9d441f0beda75ad13d76052",
            "placeholder": "​",
            "style": "IPY_MODEL_ac226e137f364a5a896094d99cc718ae",
            "value": "Downloading (…)ve/main/spiece.model: 100%"
          }
        },
        "f99cc0d6e26e419e92fd61f34255f2eb": {
          "model_module": "@jupyter-widgets/base",
          "model_module_version": "1.2.0",
          "model_name": "LayoutModel",
          "state": {
            "_model_module": "@jupyter-widgets/base",
            "_model_module_version": "1.2.0",
            "_model_name": "LayoutModel",
            "_view_count": null,
            "_view_module": "@jupyter-widgets/base",
            "_view_module_version": "1.2.0",
            "_view_name": "LayoutView",
            "align_content": null,
            "align_items": null,
            "align_self": null,
            "border": null,
            "bottom": null,
            "display": null,
            "flex": null,
            "flex_flow": null,
            "grid_area": null,
            "grid_auto_columns": null,
            "grid_auto_flow": null,
            "grid_auto_rows": null,
            "grid_column": null,
            "grid_gap": null,
            "grid_row": null,
            "grid_template_areas": null,
            "grid_template_columns": null,
            "grid_template_rows": null,
            "height": null,
            "justify_content": null,
            "justify_items": null,
            "left": null,
            "margin": null,
            "max_height": null,
            "max_width": null,
            "min_height": null,
            "min_width": null,
            "object_fit": null,
            "object_position": null,
            "order": null,
            "overflow": null,
            "overflow_x": null,
            "overflow_y": null,
            "padding": null,
            "right": null,
            "top": null,
            "visibility": null,
            "width": null
          }
        }
      }
    }
  },
  "nbformat": 4,
  "nbformat_minor": 0
}
