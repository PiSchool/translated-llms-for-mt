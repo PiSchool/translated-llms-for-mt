{
  "nbformat": 4,
  "nbformat_minor": 0,
  "metadata": {
    "colab": {
      "provenance": []
    },
    "kernelspec": {
      "name": "python3",
      "display_name": "Python 3"
    },
    "language_info": {
      "name": "python"
    }
  },
  "cells": [
    {
      "cell_type": "code",
      "source": [
        "import pandas as pd\n",
        "import nltk\n",
        "nltk.download('punkt')\n",
        "from nltk.translate.bleu_score import sentence_bleu, corpus_bleu\n",
        "from nltk.tokenize import word_tokenize\n",
        "\n",
        "\n",
        "class Translator():\n",
        "\n",
        "    def __init__(\n",
        "            self,\n",
        "            source_lang,\n",
        "            target_lang\n",
        "    ):\n",
        "        self.source_lang = source_lang\n",
        "\n",
        "        self.target_lang = target_lang\n",
        "\n",
        "    def calculate_bleu_score(self, dataframe, save_path = '/data/'):\n",
        "        df_prediction = dataframe.copy()\n",
        "        df_prediction['BLEU'] = 0\n",
        "        for i, r in df_prediction.iterrows():\n",
        "            bleu_score = sentence_bleu(word_tokenize(r['target']), word_tokenize(r['translation']))\n",
        "            df_prediction.at[i, 'BLEU'] = bleu_score\n",
        "\n",
        "        save_path += 'df_prediction_with_BLEU'\n",
        "        df_prediction.to_csv(save_path , sep = ',')\n",
        "        return df_prediction\n",
        "\n",
        "    def calculate_bleu_score(self, prediction_file_path, sep = ',' ,encoding = 'utf-8', save_path = '/data/'):\n",
        "        df_prediction = pd.read_csv(prediction_file_path, sep = sep, encoding = encoding)\n",
        "        df_prediction['BLEU'] = 0\n",
        "        for i, r in df_prediction.iterrows():\n",
        "            bleu_score = sentence_bleu([word_tokenize(r['target'])], word_tokenize(r['translation']))\n",
        "            df_prediction.at[i, 'BLEU'] = bleu_score\n",
        "\n",
        "        save_path += 'df_prediction_with_BLEU'\n",
        "        df_prediction.to_csv(save_path , sep = ',')\n",
        "        return df_prediction\n",
        "\n",
        "    def calculate_mean_bleu(self, df_prediction):\n",
        "        mean_bleu = df_prediction.loc[:, 'BLEU'].mean()\n",
        "        print(f'The mean BLEU score of all translated text: {mean_bleu}')\n",
        "        return mean_bleu\n",
        "\n"
      ],
      "metadata": {
        "id": "b5SAImEyY4E1",
        "colab": {
          "base_uri": "https://localhost:8080/"
        },
        "outputId": "e099ff1a-e0c4-4edf-dd9b-7ccb30ae1cad"
      },
      "execution_count": 18,
      "outputs": [
        {
          "output_type": "stream",
          "name": "stderr",
          "text": [
            "[nltk_data] Downloading package punkt to /root/nltk_data...\n",
            "[nltk_data]   Package punkt is already up-to-date!\n"
          ]
        }
      ]
    },
    {
      "cell_type": "code",
      "source": [
        "trans = Translator('eng', 'ita')\n",
        "df_translation = trans.calculate_bleu_score('/content/predictions_Helsinki-NLP_10-03-2023 (1).csv', save_path = '/content/')\n",
        "df_translation.head(2)"
      ],
      "metadata": {
        "colab": {
          "base_uri": "https://localhost:8080/",
          "height": 476
        },
        "id": "5iPdhkKmXpnv",
        "outputId": "63178ca4-3c1a-4822-fd29-e0d7cda5d5fe"
      },
      "execution_count": 19,
      "outputs": [
        {
          "output_type": "stream",
          "name": "stderr",
          "text": [
            "/usr/local/lib/python3.9/dist-packages/nltk/translate/bleu_score.py:552: UserWarning: \n",
            "The hypothesis contains 0 counts of 4-gram overlaps.\n",
            "Therefore the BLEU score evaluates to 0, independently of\n",
            "how many N-gram overlaps of lower order it contains.\n",
            "Consider using lower n-gram order or use SmoothingFunction()\n",
            "  warnings.warn(_msg)\n",
            "/usr/local/lib/python3.9/dist-packages/nltk/translate/bleu_score.py:552: UserWarning: \n",
            "The hypothesis contains 0 counts of 2-gram overlaps.\n",
            "Therefore the BLEU score evaluates to 0, independently of\n",
            "how many N-gram overlaps of lower order it contains.\n",
            "Consider using lower n-gram order or use SmoothingFunction()\n",
            "  warnings.warn(_msg)\n",
            "/usr/local/lib/python3.9/dist-packages/nltk/translate/bleu_score.py:552: UserWarning: \n",
            "The hypothesis contains 0 counts of 3-gram overlaps.\n",
            "Therefore the BLEU score evaluates to 0, independently of\n",
            "how many N-gram overlaps of lower order it contains.\n",
            "Consider using lower n-gram order or use SmoothingFunction()\n",
            "  warnings.warn(_msg)\n"
          ]
        },
        {
          "output_type": "execute_result",
          "data": {
            "text/plain": [
              "                                              source  \\\n",
              "0  \"We now have 4-month-old mice that are non-dia...   \n",
              "1  Dr. Ehud Ur, professor of medicine at Dalhousi...   \n",
              "\n",
              "                                              target  \\\n",
              "0  \"Abbiamo topi di quattro mesi che prima erano ...   \n",
              "1  Lo studio è ancora in fase iniziale, come dich...   \n",
              "\n",
              "                                         translation          BLEU  \n",
              "0  \"Ora abbiamo topi di 4 mesi che non sono diabe...  3.737747e-78  \n",
              "1  Dr. Ehud Ur, professore di medicina presso l'U...  2.274466e-01  "
            ],
            "text/html": [
              "\n",
              "  <div id=\"df-a3320496-eeba-4e97-9c47-1b1ceabb1144\">\n",
              "    <div class=\"colab-df-container\">\n",
              "      <div>\n",
              "<style scoped>\n",
              "    .dataframe tbody tr th:only-of-type {\n",
              "        vertical-align: middle;\n",
              "    }\n",
              "\n",
              "    .dataframe tbody tr th {\n",
              "        vertical-align: top;\n",
              "    }\n",
              "\n",
              "    .dataframe thead th {\n",
              "        text-align: right;\n",
              "    }\n",
              "</style>\n",
              "<table border=\"1\" class=\"dataframe\">\n",
              "  <thead>\n",
              "    <tr style=\"text-align: right;\">\n",
              "      <th></th>\n",
              "      <th>source</th>\n",
              "      <th>target</th>\n",
              "      <th>translation</th>\n",
              "      <th>BLEU</th>\n",
              "    </tr>\n",
              "  </thead>\n",
              "  <tbody>\n",
              "    <tr>\n",
              "      <th>0</th>\n",
              "      <td>\"We now have 4-month-old mice that are non-dia...</td>\n",
              "      <td>\"Abbiamo topi di quattro mesi che prima erano ...</td>\n",
              "      <td>\"Ora abbiamo topi di 4 mesi che non sono diabe...</td>\n",
              "      <td>3.737747e-78</td>\n",
              "    </tr>\n",
              "    <tr>\n",
              "      <th>1</th>\n",
              "      <td>Dr. Ehud Ur, professor of medicine at Dalhousi...</td>\n",
              "      <td>Lo studio è ancora in fase iniziale, come dich...</td>\n",
              "      <td>Dr. Ehud Ur, professore di medicina presso l'U...</td>\n",
              "      <td>2.274466e-01</td>\n",
              "    </tr>\n",
              "  </tbody>\n",
              "</table>\n",
              "</div>\n",
              "      <button class=\"colab-df-convert\" onclick=\"convertToInteractive('df-a3320496-eeba-4e97-9c47-1b1ceabb1144')\"\n",
              "              title=\"Convert this dataframe to an interactive table.\"\n",
              "              style=\"display:none;\">\n",
              "        \n",
              "  <svg xmlns=\"http://www.w3.org/2000/svg\" height=\"24px\"viewBox=\"0 0 24 24\"\n",
              "       width=\"24px\">\n",
              "    <path d=\"M0 0h24v24H0V0z\" fill=\"none\"/>\n",
              "    <path d=\"M18.56 5.44l.94 2.06.94-2.06 2.06-.94-2.06-.94-.94-2.06-.94 2.06-2.06.94zm-11 1L8.5 8.5l.94-2.06 2.06-.94-2.06-.94L8.5 2.5l-.94 2.06-2.06.94zm10 10l.94 2.06.94-2.06 2.06-.94-2.06-.94-.94-2.06-.94 2.06-2.06.94z\"/><path d=\"M17.41 7.96l-1.37-1.37c-.4-.4-.92-.59-1.43-.59-.52 0-1.04.2-1.43.59L10.3 9.45l-7.72 7.72c-.78.78-.78 2.05 0 2.83L4 21.41c.39.39.9.59 1.41.59.51 0 1.02-.2 1.41-.59l7.78-7.78 2.81-2.81c.8-.78.8-2.07 0-2.86zM5.41 20L4 18.59l7.72-7.72 1.47 1.35L5.41 20z\"/>\n",
              "  </svg>\n",
              "      </button>\n",
              "      \n",
              "  <style>\n",
              "    .colab-df-container {\n",
              "      display:flex;\n",
              "      flex-wrap:wrap;\n",
              "      gap: 12px;\n",
              "    }\n",
              "\n",
              "    .colab-df-convert {\n",
              "      background-color: #E8F0FE;\n",
              "      border: none;\n",
              "      border-radius: 50%;\n",
              "      cursor: pointer;\n",
              "      display: none;\n",
              "      fill: #1967D2;\n",
              "      height: 32px;\n",
              "      padding: 0 0 0 0;\n",
              "      width: 32px;\n",
              "    }\n",
              "\n",
              "    .colab-df-convert:hover {\n",
              "      background-color: #E2EBFA;\n",
              "      box-shadow: 0px 1px 2px rgba(60, 64, 67, 0.3), 0px 1px 3px 1px rgba(60, 64, 67, 0.15);\n",
              "      fill: #174EA6;\n",
              "    }\n",
              "\n",
              "    [theme=dark] .colab-df-convert {\n",
              "      background-color: #3B4455;\n",
              "      fill: #D2E3FC;\n",
              "    }\n",
              "\n",
              "    [theme=dark] .colab-df-convert:hover {\n",
              "      background-color: #434B5C;\n",
              "      box-shadow: 0px 1px 3px 1px rgba(0, 0, 0, 0.15);\n",
              "      filter: drop-shadow(0px 1px 2px rgba(0, 0, 0, 0.3));\n",
              "      fill: #FFFFFF;\n",
              "    }\n",
              "  </style>\n",
              "\n",
              "      <script>\n",
              "        const buttonEl =\n",
              "          document.querySelector('#df-a3320496-eeba-4e97-9c47-1b1ceabb1144 button.colab-df-convert');\n",
              "        buttonEl.style.display =\n",
              "          google.colab.kernel.accessAllowed ? 'block' : 'none';\n",
              "\n",
              "        async function convertToInteractive(key) {\n",
              "          const element = document.querySelector('#df-a3320496-eeba-4e97-9c47-1b1ceabb1144');\n",
              "          const dataTable =\n",
              "            await google.colab.kernel.invokeFunction('convertToInteractive',\n",
              "                                                     [key], {});\n",
              "          if (!dataTable) return;\n",
              "\n",
              "          const docLinkHtml = 'Like what you see? Visit the ' +\n",
              "            '<a target=\"_blank\" href=https://colab.research.google.com/notebooks/data_table.ipynb>data table notebook</a>'\n",
              "            + ' to learn more about interactive tables.';\n",
              "          element.innerHTML = '';\n",
              "          dataTable['output_type'] = 'display_data';\n",
              "          await google.colab.output.renderOutput(dataTable, element);\n",
              "          const docLink = document.createElement('div');\n",
              "          docLink.innerHTML = docLinkHtml;\n",
              "          element.appendChild(docLink);\n",
              "        }\n",
              "      </script>\n",
              "    </div>\n",
              "  </div>\n",
              "  "
            ]
          },
          "metadata": {},
          "execution_count": 19
        }
      ]
    },
    {
      "cell_type": "code",
      "source": [
        "trans.calculate_mean_bleu(df_translation)"
      ],
      "metadata": {
        "colab": {
          "base_uri": "https://localhost:8080/"
        },
        "id": "GcvCoODtYMM7",
        "outputId": "a9e6648a-7baa-4998-89fc-a828e0ef8c0a"
      },
      "execution_count": 20,
      "outputs": [
        {
          "output_type": "stream",
          "name": "stdout",
          "text": [
            "The mean BLEU score of all translated text: 0.22117357052480296\n"
          ]
        },
        {
          "output_type": "execute_result",
          "data": {
            "text/plain": [
              "0.22117357052480296"
            ]
          },
          "metadata": {},
          "execution_count": 20
        }
      ]
    }
  ]
}